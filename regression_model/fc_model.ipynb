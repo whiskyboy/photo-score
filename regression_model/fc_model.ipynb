{
 "cells": [
  {
   "cell_type": "code",
   "execution_count": 1,
   "metadata": {
    "collapsed": false
   },
   "outputs": [
    {
     "name": "stderr",
     "output_type": "stream",
     "text": [
      "Using Theano backend.\n"
     ]
    }
   ],
   "source": [
    "import numpy as np\n",
    "import bcolz\n",
    "from keras.models import Sequential\n",
    "from keras.layers import Conv2D, MaxPooling2D, ZeroPadding2D, Dense, Dropout, Flatten, Lambda\n",
    "from keras import optimizers\n",
    "from keras.preprocessing.image import *\n",
    "import os, sys\n",
    "from keras import backend as K\n",
    "K.set_image_data_format(\"channels_first\")"
   ]
  },
  {
   "cell_type": "code",
   "execution_count": 8,
   "metadata": {
    "collapsed": true
   },
   "outputs": [],
   "source": [
    "path = \"./data/sample/\"\n",
    "batch_size = 64\n",
    "\n",
    "def save_array(fname, arr): \n",
    "    c=bcolz.carray(arr, rootdir=fname, mode='w')\n",
    "    c.flush()\n",
    "\n",
    "def load_array(fname): \n",
    "    return bcolz.open(fname)[:]"
   ]
  },
  {
   "cell_type": "code",
   "execution_count": 12,
   "metadata": {
    "collapsed": true
   },
   "outputs": [],
   "source": [
    "fc_model = Sequential()\n",
    "fc_model.add(Dense(256, activation=\"sigmoid\", input_shape=(25088, )))\n",
    "#fc_model.add(Dropout(0.5))\n",
    "fc_model.add(Dense(256, activation=\"sigmoid\"))\n",
    "#fc_model.add(Dropout(0.5))\n",
    "fc_model.add(Dense(1, activation=\"linear\"))"
   ]
  },
  {
   "cell_type": "code",
   "execution_count": 4,
   "metadata": {
    "collapsed": false
   },
   "outputs": [],
   "source": [
    "train_features = load_array(path+\"results/train/feature.bc\")\n",
    "train_labels = load_array(path+\"results/train/label.bc\")\n",
    "valid_features = load_array(path+\"results/valid/feature.bc\")\n",
    "valid_labels = load_array(path+\"results/valid/label.bc\")"
   ]
  },
  {
   "cell_type": "code",
   "execution_count": 15,
   "metadata": {
    "collapsed": false
   },
   "outputs": [
    {
     "name": "stdout",
     "output_type": "stream",
     "text": [
      "Epoch 1/100\n",
      "200/200 [==============================] - 0s - loss: 8.4757e-04 - mean_absolute_error: 0.0232     \n",
      "Epoch 2/100\n",
      "200/200 [==============================] - 0s - loss: 4.2664e-04 - mean_absolute_error: 0.0153     \n",
      "Epoch 3/100\n",
      "200/200 [==============================] - 0s - loss: 3.6606e-04 - mean_absolute_error: 0.0143     \n",
      "Epoch 4/100\n",
      "200/200 [==============================] - 0s - loss: 3.3217e-04 - mean_absolute_error: 0.0137     \n",
      "Epoch 5/100\n",
      "200/200 [==============================] - 1s - loss: 2.7315e-04 - mean_absolute_error: 0.0126     \n",
      "Epoch 6/100\n",
      "200/200 [==============================] - 1s - loss: 2.1896e-04 - mean_absolute_error: 0.0113     \n",
      "Epoch 7/100\n",
      "200/200 [==============================] - 2s - loss: 1.8619e-04 - mean_absolute_error: 0.0101     \n",
      "Epoch 8/100\n",
      "200/200 [==============================] - 1s - loss: 1.8608e-04 - mean_absolute_error: 0.0099     \n",
      "Epoch 9/100\n",
      "200/200 [==============================] - 0s - loss: 1.2752e-04 - mean_absolute_error: 0.0077     \n",
      "Epoch 10/100\n",
      "200/200 [==============================] - 1s - loss: 9.6791e-05 - mean_absolute_error: 0.0064     \n",
      "Epoch 11/100\n",
      "200/200 [==============================] - 1s - loss: 7.2858e-05 - mean_absolute_error: 0.0053     \n",
      "Epoch 12/100\n",
      "200/200 [==============================] - 2s - loss: 6.9344e-05 - mean_absolute_error: 0.0058     \n",
      "Epoch 13/100\n",
      "200/200 [==============================] - 1s - loss: 6.7522e-05 - mean_absolute_error: 0.0060     \n",
      "Epoch 14/100\n",
      "200/200 [==============================] - 2s - loss: 7.2396e-05 - mean_absolute_error: 0.0062     \n",
      "Epoch 15/100\n",
      "200/200 [==============================] - 1s - loss: 3.5031e-05 - mean_absolute_error: 0.0040     \n",
      "Epoch 16/100\n",
      "200/200 [==============================] - 1s - loss: 2.7411e-05 - mean_absolute_error: 0.0031     \n",
      "Epoch 17/100\n",
      "200/200 [==============================] - 1s - loss: 4.0478e-05 - mean_absolute_error: 0.0051     \n",
      "Epoch 18/100\n",
      "200/200 [==============================] - 2s - loss: 3.5426e-05 - mean_absolute_error: 0.0046     \n",
      "Epoch 19/100\n",
      "200/200 [==============================] - 1s - loss: 2.8458e-05 - mean_absolute_error: 0.0041     \n",
      "Epoch 20/100\n",
      "200/200 [==============================] - 1s - loss: 2.7750e-05 - mean_absolute_error: 0.0039     \n",
      "Epoch 21/100\n",
      "200/200 [==============================] - 1s - loss: 4.4648e-05 - mean_absolute_error: 0.0058     \n",
      "Epoch 22/100\n",
      "200/200 [==============================] - 0s - loss: 2.9105e-05 - mean_absolute_error: 0.0043     \n",
      "Epoch 23/100\n",
      "200/200 [==============================] - 0s - loss: 2.2126e-05 - mean_absolute_error: 0.0040     \n",
      "Epoch 24/100\n",
      "200/200 [==============================] - 0s - loss: 3.9386e-05 - mean_absolute_error: 0.0051     \n",
      "Epoch 25/100\n",
      "200/200 [==============================] - 1s - loss: 2.6042e-05 - mean_absolute_error: 0.0040     \n",
      "Epoch 26/100\n",
      "200/200 [==============================] - 2s - loss: 1.1628e-05 - mean_absolute_error: 0.0025     \n",
      "Epoch 27/100\n",
      "200/200 [==============================] - 1s - loss: 9.0017e-06 - mean_absolute_error: 0.0022     \n",
      "Epoch 28/100\n",
      "200/200 [==============================] - 0s - loss: 3.0563e-05 - mean_absolute_error: 0.0049     \n",
      "Epoch 29/100\n",
      "200/200 [==============================] - 0s - loss: 4.5818e-05 - mean_absolute_error: 0.0055     \n",
      "Epoch 30/100\n",
      "200/200 [==============================] - 0s - loss: 2.9382e-05 - mean_absolute_error: 0.0043     \n",
      "Epoch 31/100\n",
      "200/200 [==============================] - 0s - loss: 1.3369e-05 - mean_absolute_error: 0.0027     \n",
      "Epoch 32/100\n",
      "200/200 [==============================] - 0s - loss: 6.8052e-06 - mean_absolute_error: 0.0018     \n",
      "Epoch 33/100\n",
      "200/200 [==============================] - 1s - loss: 4.4729e-06 - mean_absolute_error: 0.0016     \n",
      "Epoch 34/100\n",
      "200/200 [==============================] - 0s - loss: 1.8348e-05 - mean_absolute_error: 0.0034     \n",
      "Epoch 35/100\n",
      "200/200 [==============================] - 1s - loss: 3.5386e-05 - mean_absolute_error: 0.0050     \n",
      "Epoch 36/100\n",
      "200/200 [==============================] - 2s - loss: 2.2319e-05 - mean_absolute_error: 0.0038     \n",
      "Epoch 37/100\n",
      "200/200 [==============================] - 1s - loss: 1.7771e-05 - mean_absolute_error: 0.0034     \n",
      "Epoch 38/100\n",
      "200/200 [==============================] - 2s - loss: 2.3339e-05 - mean_absolute_error: 0.0039     \n",
      "Epoch 39/100\n",
      "200/200 [==============================] - 1s - loss: 2.1977e-05 - mean_absolute_error: 0.0040     \n",
      "Epoch 40/100\n",
      "200/200 [==============================] - 1s - loss: 2.2577e-05 - mean_absolute_error: 0.0038     \n",
      "Epoch 41/100\n",
      "200/200 [==============================] - 1s - loss: 9.6165e-06 - mean_absolute_error: 0.0022     \n",
      "Epoch 42/100\n",
      "200/200 [==============================] - 2s - loss: 2.8627e-05 - mean_absolute_error: 0.0048     \n",
      "Epoch 43/100\n",
      "200/200 [==============================] - 1s - loss: 2.2534e-05 - mean_absolute_error: 0.0037     \n",
      "Epoch 44/100\n",
      "200/200 [==============================] - 0s - loss: 2.2845e-05 - mean_absolute_error: 0.0042     \n",
      "Epoch 45/100\n",
      "200/200 [==============================] - 0s - loss: 1.2160e-05 - mean_absolute_error: 0.0027     \n",
      "Epoch 46/100\n",
      "200/200 [==============================] - 0s - loss: 1.9485e-05 - mean_absolute_error: 0.0039     \n",
      "Epoch 47/100\n",
      "200/200 [==============================] - 0s - loss: 2.2351e-05 - mean_absolute_error: 0.0038     \n",
      "Epoch 48/100\n",
      "200/200 [==============================] - 1s - loss: 2.7120e-05 - mean_absolute_error: 0.0043     \n",
      "Epoch 49/100\n",
      "200/200 [==============================] - 1s - loss: 2.5229e-05 - mean_absolute_error: 0.0036     \n",
      "Epoch 50/100\n",
      "200/200 [==============================] - 1s - loss: 7.8826e-06 - mean_absolute_error: 0.0021     \n",
      "Epoch 51/100\n",
      "200/200 [==============================] - 1s - loss: 1.2787e-05 - mean_absolute_error: 0.0030     \n",
      "Epoch 52/100\n",
      "200/200 [==============================] - 0s - loss: 2.5994e-05 - mean_absolute_error: 0.0043     \n",
      "Epoch 53/100\n",
      "200/200 [==============================] - 0s - loss: 1.6863e-05 - mean_absolute_error: 0.0031     \n",
      "Epoch 54/100\n",
      "200/200 [==============================] - 0s - loss: 4.7211e-05 - mean_absolute_error: 0.0064     \n",
      "Epoch 55/100\n",
      "200/200 [==============================] - 0s - loss: 2.8316e-05 - mean_absolute_error: 0.0040     \n",
      "Epoch 56/100\n",
      "200/200 [==============================] - 0s - loss: 3.0013e-05 - mean_absolute_error: 0.0047     \n",
      "Epoch 57/100\n",
      "200/200 [==============================] - 0s - loss: 1.6385e-05 - mean_absolute_error: 0.0030     \n",
      "Epoch 58/100\n",
      "200/200 [==============================] - 0s - loss: 8.2771e-06 - mean_absolute_error: 0.0023     \n",
      "Epoch 59/100\n",
      "200/200 [==============================] - 0s - loss: 2.0646e-05 - mean_absolute_error: 0.0040     \n",
      "Epoch 60/100\n",
      "200/200 [==============================] - 0s - loss: 2.5042e-05 - mean_absolute_error: 0.0041     \n",
      "Epoch 61/100\n",
      "200/200 [==============================] - 1s - loss: 2.2191e-05 - mean_absolute_error: 0.0038     \n",
      "Epoch 62/100\n",
      "200/200 [==============================] - 1s - loss: 1.2438e-05 - mean_absolute_error: 0.0028     \n",
      "Epoch 63/100\n",
      "200/200 [==============================] - 1s - loss: 1.8858e-05 - mean_absolute_error: 0.0037     \n",
      "Epoch 64/100\n",
      "200/200 [==============================] - 1s - loss: 4.6349e-05 - mean_absolute_error: 0.0057     \n",
      "Epoch 65/100\n",
      "200/200 [==============================] - 0s - loss: 1.3549e-05 - mean_absolute_error: 0.0029     \n",
      "Epoch 66/100\n",
      "200/200 [==============================] - 0s - loss: 1.9435e-05 - mean_absolute_error: 0.0040     \n",
      "Epoch 67/100\n",
      "200/200 [==============================] - 0s - loss: 2.7154e-05 - mean_absolute_error: 0.0042     \n",
      "Epoch 68/100\n",
      "200/200 [==============================] - 0s - loss: 1.8773e-05 - mean_absolute_error: 0.0035     \n",
      "Epoch 69/100\n",
      "200/200 [==============================] - 0s - loss: 8.9981e-06 - mean_absolute_error: 0.0023     \n",
      "Epoch 70/100\n",
      "200/200 [==============================] - 1s - loss: 1.3718e-05 - mean_absolute_error: 0.0032     \n",
      "Epoch 71/100\n",
      "200/200 [==============================] - 2s - loss: 2.8195e-05 - mean_absolute_error: 0.0046     \n",
      "Epoch 72/100\n",
      "200/200 [==============================] - 1s - loss: 2.8982e-05 - mean_absolute_error: 0.0042     \n",
      "Epoch 73/100\n",
      "200/200 [==============================] - 2s - loss: 1.2327e-05 - mean_absolute_error: 0.0028     \n",
      "Epoch 74/100\n",
      "200/200 [==============================] - 2s - loss: 7.6291e-06 - mean_absolute_error: 0.0020     \n",
      "Epoch 75/100\n",
      "200/200 [==============================] - 1s - loss: 4.0599e-05 - mean_absolute_error: 0.0059     \n",
      "Epoch 76/100\n",
      "200/200 [==============================] - 2s - loss: 2.6523e-05 - mean_absolute_error: 0.0039     \n",
      "Epoch 77/100\n",
      "200/200 [==============================] - 1s - loss: 1.0147e-05 - mean_absolute_error: 0.0025     \n",
      "Epoch 78/100\n",
      "200/200 [==============================] - 2s - loss: 5.7103e-06 - mean_absolute_error: 0.0020     \n",
      "Epoch 79/100\n",
      "200/200 [==============================] - 1s - loss: 2.4342e-05 - mean_absolute_error: 0.0043     \n",
      "Epoch 80/100\n",
      "200/200 [==============================] - 1s - loss: 2.9133e-05 - mean_absolute_error: 0.0042     \n",
      "Epoch 81/100\n",
      "200/200 [==============================] - 1s - loss: 1.3285e-05 - mean_absolute_error: 0.0027     \n",
      "Epoch 82/100\n",
      "200/200 [==============================] - 1s - loss: 2.9672e-05 - mean_absolute_error: 0.0050     \n",
      "Epoch 83/100\n",
      "200/200 [==============================] - 1s - loss: 2.7224e-05 - mean_absolute_error: 0.0043     \n",
      "Epoch 84/100\n",
      "200/200 [==============================] - 1s - loss: 1.0843e-05 - mean_absolute_error: 0.0025     \n",
      "Epoch 85/100\n",
      "200/200 [==============================] - 0s - loss: 2.4469e-05 - mean_absolute_error: 0.0042     \n",
      "Epoch 86/100\n",
      "200/200 [==============================] - 0s - loss: 2.4273e-05 - mean_absolute_error: 0.0040     \n",
      "Epoch 87/100\n",
      "200/200 [==============================] - 0s - loss: 1.6283e-05 - mean_absolute_error: 0.0031     \n",
      "Epoch 88/100\n",
      "200/200 [==============================] - 0s - loss: 9.8747e-06 - mean_absolute_error: 0.0023     \n",
      "Epoch 89/100\n",
      "200/200 [==============================] - 0s - loss: 2.7213e-05 - mean_absolute_error: 0.0048     \n",
      "Epoch 90/100\n",
      "200/200 [==============================] - 0s - loss: 2.2946e-05 - mean_absolute_error: 0.0038     \n",
      "Epoch 91/100\n",
      "200/200 [==============================] - 0s - loss: 1.0490e-05 - mean_absolute_error: 0.0025     \n",
      "Epoch 92/100\n",
      "200/200 [==============================] - 0s - loss: 3.0970e-05 - mean_absolute_error: 0.0050     \n",
      "Epoch 93/100\n",
      "200/200 [==============================] - 1s - loss: 1.9238e-05 - mean_absolute_error: 0.0033     \n",
      "Epoch 94/100\n",
      "200/200 [==============================] - 1s - loss: 2.0931e-05 - mean_absolute_error: 0.0040     \n",
      "Epoch 95/100\n",
      "200/200 [==============================] - 1s - loss: 2.1930e-05 - mean_absolute_error: 0.0037     \n",
      "Epoch 96/100\n",
      "200/200 [==============================] - 1s - loss: 1.8432e-05 - mean_absolute_error: 0.0037     \n",
      "Epoch 97/100\n",
      "200/200 [==============================] - 0s - loss: 1.2320e-05 - mean_absolute_error: 0.0028     \n",
      "Epoch 98/100\n",
      "200/200 [==============================] - 0s - loss: 3.7410e-05 - mean_absolute_error: 0.0058     \n",
      "Epoch 99/100\n",
      "200/200 [==============================] - 1s - loss: 1.7905e-05 - mean_absolute_error: 0.0032     \n",
      "Epoch 100/100\n",
      "200/200 [==============================] - 1s - loss: 2.6578e-05 - mean_absolute_error: 0.0048     \n"
     ]
    },
    {
     "data": {
      "text/plain": [
       "<keras.callbacks.History at 0x7f261299ba10>"
      ]
     },
     "execution_count": 15,
     "metadata": {},
     "output_type": "execute_result"
    }
   ],
   "source": [
    "optimizer = optimizers.RMSprop(lr=1e-5, rho=0.9, epsilon=1e-08, decay=0.0)\n",
    "fc_model.compile(optimizer=optimizer, loss=\"mse\", metrics=[\"mae\"])\n",
    "\n",
    "fc_model.fit(x=train_features, y=train_labels, batch_size=batch_size, epochs=100,\n",
    "            validation_data=None, shuffle=True)"
   ]
  },
  {
   "cell_type": "code",
   "execution_count": 20,
   "metadata": {
    "collapsed": false
   },
   "outputs": [
    {
     "name": "stdout",
     "output_type": "stream",
     "text": [
      "['./data/results/train/feature0.bc/', './data/results/train/feature1.bc/', './data/results/train/feature10.bc/', './data/results/train/feature11.bc/', './data/results/train/feature12.bc/', './data/results/train/feature13.bc/', './data/results/train/feature14.bc/', './data/results/train/feature15.bc/', './data/results/train/feature2.bc/', './data/results/train/feature3.bc/', './data/results/train/feature4.bc/', './data/results/train/feature5.bc/', './data/results/train/feature6.bc/', './data/results/train/feature7.bc/', './data/results/train/feature8.bc/', './data/results/train/feature9.bc/']\n",
      "['./data/results/train/label0.bc/', './data/results/train/label1.bc/', './data/results/train/label10.bc/', './data/results/train/label11.bc/', './data/results/train/label12.bc/', './data/results/train/label13.bc/', './data/results/train/label14.bc/', './data/results/train/label15.bc/', './data/results/train/label2.bc/', './data/results/train/label3.bc/', './data/results/train/label4.bc/', './data/results/train/label5.bc/', './data/results/train/label6.bc/', './data/results/train/label7.bc/', './data/results/train/label8.bc/', './data/results/train/label9.bc/']\n"
     ]
    }
   ],
   "source": [
    "import glob\n",
    "print sorted(glob.glob(\"./data/results/train/feature*.bc/\"))\n",
    "print sorted(glob.glob(\"./data/results/train/label*.bc/\"))"
   ]
  },
  {
   "cell_type": "code",
   "execution_count": null,
   "metadata": {
    "collapsed": true
   },
   "outputs": [],
   "source": []
  },
  {
   "cell_type": "code",
   "execution_count": null,
   "metadata": {
    "collapsed": true
   },
   "outputs": [],
   "source": []
  }
 ],
 "metadata": {
  "kernelspec": {
   "display_name": "Python 2",
   "language": "python",
   "name": "python2"
  },
  "language_info": {
   "codemirror_mode": {
    "name": "ipython",
    "version": 2
   },
   "file_extension": ".py",
   "mimetype": "text/x-python",
   "name": "python",
   "nbconvert_exporter": "python",
   "pygments_lexer": "ipython2",
   "version": "2.7.13"
  }
 },
 "nbformat": 4,
 "nbformat_minor": 0
}
