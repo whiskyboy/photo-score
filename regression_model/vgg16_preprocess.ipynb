{
 "cells": [
  {
   "cell_type": "code",
   "execution_count": 1,
   "metadata": {
    "collapsed": false
   },
   "outputs": [
    {
     "name": "stderr",
     "output_type": "stream",
     "text": [
      "Using Theano backend.\n"
     ]
    }
   ],
   "source": [
    "# define the vgg network and load pre-trained weights\n",
    "import numpy as np\n",
    "from keras.models import Sequential\n",
    "from keras.layers import Conv2D, MaxPooling2D, ZeroPadding2D, Dense, Dropout, Flatten, Lambda\n",
    "from keras import optimizers\n",
    "from keras import backend as K\n",
    "K.set_image_data_format(\"channels_first\")\n",
    "\n",
    "def preprocess(img):\n",
    "    \"\"\"\n",
    "    subtract average pixes of each channel\n",
    "    and reverse the channel axies from 'rgb' to 'bgr'\n",
    "    Args:\n",
    "        img: (batch_size, channel_size, height, width)\n",
    "    \"\"\"\n",
    "    vgg_mean = np.array([123.68, 116.779, 103.939]).reshape((3,1,1))\n",
    "    return (img - vgg_mean)[:, ::-1] # 注意第一个维度是batch_size\n",
    "\n",
    "def AddConvBlock(model, layers, filters):\n",
    "    \"\"\"\n",
    "    Args:\n",
    "        model: keras model\n",
    "        layers: number of padding + conv layers\n",
    "        filters: number of filters\n",
    "    \"\"\"\n",
    "    for _ in range(layers):\n",
    "        model.add(ZeroPadding2D((1, 1)))\n",
    "        model.add(Conv2D(filters, kernel_size=(3, 3), activation=\"relu\"))\n",
    "    model.add(MaxPooling2D(pool_size=(2, 2), strides=(2, 2)))\n",
    "    \n",
    "def AddFCBlock(model, units, dropout=0.5):\n",
    "    \"\"\"\n",
    "    Args:\n",
    "        model: keras sequential model\n",
    "        units: positive integer, dimensionality of the output space\n",
    "        dropout: dropout rate\n",
    "    \"\"\"\n",
    "    model.add(Dense(units, activation='relu'))\n",
    "    if dropout is not None:\n",
    "        model.add(Dropout(dropout))\n",
    "    \n",
    "\n",
    "vgg_model = Sequential()\n",
    "# 预处理：这里要指定输入张量的维度。在后面的模块中一般不需要考虑上一层的输入维度，keras会自动计算\n",
    "vgg_model.add(Lambda(preprocess, input_shape=(3, 224, 224), output_shape=(3, 224, 224)))\n",
    "# 添加卷积模块\n",
    "AddConvBlock(vgg_model, 2, 64)\n",
    "AddConvBlock(vgg_model, 2, 128)\n",
    "AddConvBlock(vgg_model, 3, 256)\n",
    "AddConvBlock(vgg_model, 3, 512)\n",
    "AddConvBlock(vgg_model, 3, 512)\n",
    "# 将(channels, height, width)的三维张量打平成(channels * height * width, )的一维张量\n",
    "vgg_model.add(Flatten())\n",
    "# 添加全连接层和dropout\n",
    "AddFCBlock(vgg_model, units=4096, dropout=0.5)\n",
    "AddFCBlock(vgg_model, units=4096, dropout=0.5)\n",
    "# the last layer: softmax layer\n",
    "vgg_model.add(Dense(units=1000, activation=\"softmax\"))\n",
    "\n",
    "vgg_model.load_weights(\"./models/vgg16.h5\")"
   ]
  },
  {
   "cell_type": "code",
   "execution_count": 2,
   "metadata": {
    "collapsed": true
   },
   "outputs": [],
   "source": [
    "# pop the fc layer and use flatten layer as output for feature extraction\n",
    "while type(vgg_model.layers[-1]) is not Flatten:\n",
    "    vgg_model.pop()\n",
    "\n",
    "#vgg_model.compile(optimizer=\"sgd\", loss=\"mse\", metrics=[\"mae\"])"
   ]
  },
  {
   "cell_type": "code",
   "execution_count": 32,
   "metadata": {
    "collapsed": false
   },
   "outputs": [
    {
     "name": "stdout",
     "output_type": "stream",
     "text": [
      "Found 200 images belonging to 1 classes.\n",
      "Found 200 images belonging to 1 classes.\n"
     ]
    }
   ],
   "source": [
    "# define the batch flow for images from directory\n",
    "from keras.preprocessing.image import *\n",
    "import os\n",
    "\n",
    "# 自定义DirectoryIterator类，可以返回自定义的label\n",
    "class CustomDirectoryIterator(DirectoryIterator):\n",
    "    def __init__(self, directory, image_data_generator, output_data_generator, target_size, batch_size, shuffle):\n",
    "        super(CustomDirectoryIterator, self).__init__(directory, image_data_generator,\n",
    "                 target_size=target_size, color_mode='rgb',\n",
    "                 classes=None, class_mode=None,\n",
    "                 batch_size=batch_size, shuffle=shuffle, seed=None,\n",
    "                 data_format=None,\n",
    "                 save_to_dir=None, save_prefix='', save_format='png',\n",
    "                 follow_links=False)\n",
    "        self.output_data_generator = output_data_generator\n",
    "    \n",
    "    def next(self):\n",
    "        \"\"\"For python 2.x.\n",
    "        # Returns\n",
    "            The next batch.\n",
    "        \"\"\"\n",
    "        with self.lock:\n",
    "            index_array, current_index, current_batch_size = next(self.index_generator)\n",
    "        # The transformation of images is not under thread lock\n",
    "        # so it can be done in parallel\n",
    "        batch_x = np.zeros((current_batch_size,) + self.image_shape, dtype=K.floatx())\n",
    "        batch_y = np.zeros(current_batch_size , dtype=K.floatx())\n",
    "        grayscale = self.color_mode == 'grayscale'\n",
    "        # build batch of image data\n",
    "        for i, j in enumerate(index_array):\n",
    "            fname = self.filenames[j]\n",
    "            img = load_img(os.path.join(self.directory, fname),\n",
    "                           grayscale=grayscale,\n",
    "                           target_size=self.target_size)\n",
    "            x = img_to_array(img, data_format=self.data_format)\n",
    "            x = self.image_data_generator.random_transform(x)\n",
    "            x = self.image_data_generator.standardize(x)\n",
    "            batch_x[i] = x\n",
    "            batch_y[i] = self.output_data_generator(fname)\n",
    "        return batch_x, batch_y\n",
    "\n",
    "# 定义数据根目录（先用sample目标调试程序，真正训练时切换到data目录下）\n",
    "path = \"./data/sample/\"\n",
    "\n",
    "# 定义批处理的数据集大小：较小的batch_size可以增加权重调整的次数，同时节省内存的开销\n",
    "batch_size = 16 \n",
    "\n",
    "# 获取自定义label的lambda函数。注意传入的参数是图片文件名\n",
    "ODG = lambda img_filename: os.path.splitext(img_filename)[0].split(\"_\")[1]\n",
    "\n",
    "# 图片预处理工具类\n",
    "IDG = ImageDataGenerator()\n",
    "\n",
    "# 从目录文件中流式读取数据，避免训练中一次性加载爆内存\n",
    "train_batch = CustomDirectoryIterator(path + \"train/\", IDG, ODG, \n",
    "                                      target_size=(224, 224), batch_size=batch_size, shuffle=False)\n",
    "valid_batch = CustomDirectoryIterator(path + \"valid/\", IDG, ODG,\n",
    "                                      target_size=(224, 224), batch_size=batch_size, shuffle=False)"
   ]
  },
  {
   "cell_type": "code",
   "execution_count": 66,
   "metadata": {
    "collapsed": false
   },
   "outputs": [],
   "source": [
    "all_features = []\n",
    "all_labels = []\n",
    "steps = train_batch.samples // train_batch.batch_size\n",
    "for _ in range(steps+1):\n",
    "    img, label = train_batch.next()\n",
    "    feature = vgg_model.predict_on_batch(img)\n",
    "    all_features.extend(feature)\n",
    "    all_labels.extend(label)\n",
    "    \n",
    "all_features = np.array(all_features)\n",
    "all_labels = np.array(all_labels)"
   ]
  },
  {
   "cell_type": "code",
   "execution_count": 71,
   "metadata": {
    "collapsed": false
   },
   "outputs": [],
   "source": [
    "import bcolz\n",
    "def save_array(fname, arr): c=bcolz.carray(arr, rootdir=fname, mode='w'); c.flush()\n",
    "def load_array(fname): return bcolz.open(fname)[:]\n",
    "\n",
    "save_array(path+\"results/train_feature.bc\", all_features)\n",
    "save_array(path+\"results/train_label.bc\", all_labels)"
   ]
  },
  {
   "cell_type": "code",
   "execution_count": 72,
   "metadata": {
    "collapsed": false
   },
   "outputs": [],
   "source": [
    "all_features = load_array(path+\"results/train_feature.bc\")"
   ]
  },
  {
   "cell_type": "code",
   "execution_count": null,
   "metadata": {
    "collapsed": true
   },
   "outputs": [],
   "source": []
  }
 ],
 "metadata": {
  "kernelspec": {
   "display_name": "Python 2",
   "language": "python",
   "name": "python2"
  },
  "language_info": {
   "codemirror_mode": {
    "name": "ipython",
    "version": 2
   },
   "file_extension": ".py",
   "mimetype": "text/x-python",
   "name": "python",
   "nbconvert_exporter": "python",
   "pygments_lexer": "ipython2",
   "version": "2.7.13"
  }
 },
 "nbformat": 4,
 "nbformat_minor": 0
}
