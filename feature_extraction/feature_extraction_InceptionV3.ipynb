{
 "cells": [
  {
   "cell_type": "code",
   "execution_count": 11,
   "metadata": {
    "collapsed": true
   },
   "outputs": [],
   "source": [
    "from keras.applications.inception_v3 import InceptionV3\n",
    "from keras.preprocessing import image\n",
    "from keras.applications.inception_v3 import preprocess_input\n",
    "import numpy as np\n",
    "\n",
    "# img_path = \"../data/img/\"\n",
    "img_path = \"../data/sample/\"\n",
    "save_path = \"../data/pretrained_features/\"\n",
    "if not os.path.exists(save_path):\n",
    "    os.mkdir(save_path)\n",
    "\n",
    "batch_size = 64\n",
    "save_size = 10000 # save features per 10000 images"
   ]
  },
  {
   "cell_type": "code",
   "execution_count": 7,
   "metadata": {
    "collapsed": true
   },
   "outputs": [],
   "source": [
    "# create the base pre-trained model\n",
    "model = InceptionV3(weights='imagenet', include_top=False)"
   ]
  },
  {
   "cell_type": "code",
   "execution_count": 26,
   "metadata": {
    "collapsed": false
   },
   "outputs": [
    {
     "name": "stdout",
     "output_type": "stream",
     "text": [
      "cannot identify image file '../data/sample/127164.jpg'\n"
     ]
    }
   ],
   "source": [
    "import os\n",
    "\n",
    "def get_imgid(imgname):\n",
    "    imgid, extname = os.path.splitext(imgname)\n",
    "    return int(imgid)\n",
    "\n",
    "all_files = os.listdir(img_path)\n",
    "for epoch in range(0, len(all_files), save_size):\n",
    "    img_ids = []\n",
    "    imgs = []\n",
    "    for imgname in all_files[epoch:epoch+save_size]:\n",
    "        try:\n",
    "            imgid = get_imgid(imgname)\n",
    "            filename = img_path+imgname\n",
    "            img = image.load_img(filename, target_size=(299, 299))\n",
    "            x = image.img_to_array(img)\n",
    "            x = preprocess_input(x)\n",
    "        except Exception, e:\n",
    "            print str(e)\n",
    "            continue\n",
    "        img_ids.append(imgid)\n",
    "        imgs.append(x)\n",
    "    img_ids = np.array(img_ids)\n",
    "    img_features = model.predict(np.array(imgs), batch_size)\n",
    "    np.savez(save_path+\"imgs_epoch=%d.npz\"%epoch//save_size, \n",
    "            img_ids = img_ids,\n",
    "            img_features = img_features)"
   ]
  },
  {
   "cell_type": "code",
   "execution_count": null,
   "metadata": {
    "collapsed": true
   },
   "outputs": [],
   "source": []
  }
 ],
 "metadata": {
  "kernelspec": {
   "display_name": "Python 2",
   "language": "python",
   "name": "python2"
  },
  "language_info": {
   "codemirror_mode": {
    "name": "ipython",
    "version": 2
   },
   "file_extension": ".py",
   "mimetype": "text/x-python",
   "name": "python",
   "nbconvert_exporter": "python",
   "pygments_lexer": "ipython2",
   "version": "2.7.13"
  }
 },
 "nbformat": 4,
 "nbformat_minor": 2
}
