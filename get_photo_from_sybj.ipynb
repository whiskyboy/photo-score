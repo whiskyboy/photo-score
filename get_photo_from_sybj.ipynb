{
 "cells": [
  {
   "cell_type": "code",
   "execution_count": 30,
   "metadata": {
    "collapsed": true
   },
   "outputs": [],
   "source": [
    "import urllib2\n",
    "from bs4 import BeautifulSoup\n",
    "import urllib\n",
    "from PIL import Image\n",
    "import matplotlib.pyplot as plt\n",
    "import logging\n",
    "import time\n",
    "\n",
    "logging.basicConfig(level=logging.DEBUG,\n",
    "                    format='%(asctime)s %(levelname)s %(message)s',\n",
    "                    datefmt='%m-%d %H:%M')\n",
    "\n",
    "request_root_url = \"http://www.sybj.com\"\n",
    "request_headers = {'User-Agent' : 'Mozilla/4.0 (compatible; MSIE 5.5; Windows NT)'}\n",
    "sleep_second = 3\n",
    "\n",
    "def get_html(page_url):\n",
    "    url = request_root_url + page_url\n",
    "    request = urllib2.Request(url, headers=request_headers)\n",
    "    response = urllib2.urlopen(request, timeout=60)\n",
    "    html = response.read()\n",
    "    return html\n",
    "\n",
    "def save_html(html, filename):\n",
    "    fhtml = open(filename, 'w')\n",
    "    fhtml.write(html)\n",
    "    fhtml.close()\n",
    "    \n",
    "def get_img_url(soup):\n",
    "    img_tag = soup.find(\"img\", id=\"imgSybj\")\n",
    "    if img_tag is None:\n",
    "        return None\n",
    "    else:\n",
    "        return img_tag.get(\"src\")\n",
    "    \n",
    "def get_zan_num(soup):\n",
    "    zan_num_tag = soup.find(\"span\", id=\"zan-num\")\n",
    "    if zan_num_tag is None:\n",
    "        return None\n",
    "    else:\n",
    "        return zan_num_tag.string\n",
    "    \n",
    "def get_cai_num(soup):\n",
    "    cai_num_tag = soup.find(\"span\", id=\"cai-num\")\n",
    "    if cai_num_tag is None:\n",
    "        return None\n",
    "    else:\n",
    "        return cai_num_tag.string\n",
    "    \n",
    "def get_prev_page(soup):\n",
    "    prev_page_tag = soup.find(\"a\", id=\"prepage\")\n",
    "    if prev_page_tag is None:\n",
    "        return None\n",
    "    else:\n",
    "        return prev_page_tag.get(\"href\")\n",
    "    \n",
    "def save_image(src_url, trg_name):\n",
    "    urllib.urlretrieve(src_url, trg_name)\n",
    "    \n",
    "def get_img_id(url):\n",
    "    _idx = url.find(\"&id=\") + 4\n",
    "    img_id = url[_idx:]\n",
    "    return img_id\n",
    "        "
   ]
  },
  {
   "cell_type": "code",
   "execution_count": 31,
   "metadata": {
    "collapsed": false
   },
   "outputs": [
    {
     "name": "stderr",
     "output_type": "stream",
     "text": [
      "/opt/conda/lib/python2.7/site-packages/ipykernel/__main__.py:25: DeprecationWarning: BaseException.message has been deprecated as of Python 2.6\n"
     ]
    },
    {
     "ename": "KeyboardInterrupt",
     "evalue": "",
     "output_type": "error",
     "traceback": [
      "\u001b[1;31m---------------------------------------------------------------------------\u001b[0m",
      "\u001b[1;31mKeyboardInterrupt\u001b[0m                         Traceback (most recent call last)",
      "\u001b[1;32m<ipython-input-31-5837dcc8a69a>\u001b[0m in \u001b[0;36m<module>\u001b[1;34m()\u001b[0m\n\u001b[0;32m     24\u001b[0m         \u001b[1;32mexcept\u001b[0m \u001b[0mException\u001b[0m\u001b[1;33m,\u001b[0m \u001b[0me\u001b[0m\u001b[1;33m:\u001b[0m\u001b[1;33m\u001b[0m\u001b[0m\n\u001b[0;32m     25\u001b[0m             \u001b[0mlogging\u001b[0m\u001b[1;33m.\u001b[0m\u001b[0merror\u001b[0m\u001b[1;33m(\u001b[0m\u001b[0me\u001b[0m\u001b[1;33m.\u001b[0m\u001b[0mmessage\u001b[0m\u001b[1;33m)\u001b[0m\u001b[1;33m\u001b[0m\u001b[0m\n\u001b[1;32m---> 26\u001b[1;33m             \u001b[0mtime\u001b[0m\u001b[1;33m.\u001b[0m\u001b[0msleep\u001b[0m\u001b[1;33m(\u001b[0m\u001b[0msleep_second\u001b[0m\u001b[1;33m*\u001b[0m\u001b[1;36m10\u001b[0m\u001b[1;33m)\u001b[0m\u001b[1;33m\u001b[0m\u001b[0m\n\u001b[0m\u001b[0;32m     27\u001b[0m             \u001b[1;32mcontinue\u001b[0m\u001b[1;33m\u001b[0m\u001b[0m\n\u001b[0;32m     28\u001b[0m \u001b[1;33m\u001b[0m\u001b[0m\n",
      "\u001b[1;31mKeyboardInterrupt\u001b[0m: "
     ]
    }
   ],
   "source": [
    "if __name__ == \"__main__\":\n",
    "    first_page = \"/may.php?c=w&a=organizationCommunity&t=1&hid=1126&id=405\"\n",
    "    href = first_page\n",
    "    #while href is not None:\n",
    "    for _ in range(10):\n",
    "        img_id = get_img_id(href)\n",
    "        if (not href.startswith(\"/may.php?\")) or (img_id == \"\"):\n",
    "            break\n",
    "        \n",
    "        try:\n",
    "            logging.info(\"process url=%s%s\"%(request_root_url, href))\n",
    "            \n",
    "            html = get_html(href)\n",
    "            soup = BeautifulSoup(html, 'html.parser')\n",
    "            save_html(html, \"./data/cache/%s.html\"%img_id)\n",
    "            logging.info(\"[html]./data/cache/%s.html has been saved.\"%img_id)\n",
    "                \n",
    "            img_url = get_img_url(soup)\n",
    "            zan_num = get_zan_num(soup)\n",
    "            cai_num = get_cai_num(soup)\n",
    "            img_filename = \"./data/img/%s_%s_%s.jpg\" % (img_id, zan_num, cai_num)\n",
    "            save_image(img_url, img_filename)\n",
    "            logging.info(\"[image]%s has been saved.\"%img_filename)\n",
    "        except Exception, e:\n",
    "            logging.error(e.message)\n",
    "            time.sleep(sleep_second*10)\n",
    "            continue\n",
    "        \n",
    "        href = get_prev_page(soup)\n",
    "        time.sleep(sleep_second)"
   ]
  },
  {
   "cell_type": "code",
   "execution_count": null,
   "metadata": {
    "collapsed": true
   },
   "outputs": [],
   "source": []
  }
 ],
 "metadata": {
  "kernelspec": {
   "display_name": "Python 2",
   "language": "python",
   "name": "python2"
  },
  "language_info": {
   "codemirror_mode": {
    "name": "ipython",
    "version": 2
   },
   "file_extension": ".py",
   "mimetype": "text/x-python",
   "name": "python",
   "nbconvert_exporter": "python",
   "pygments_lexer": "ipython2",
   "version": "2.7.13"
  }
 },
 "nbformat": 4,
 "nbformat_minor": 0
}
