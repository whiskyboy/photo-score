{
 "cells": [
  {
   "cell_type": "code",
   "execution_count": 4,
   "metadata": {
    "collapsed": false
   },
   "outputs": [
    {
     "name": "stdout",
     "output_type": "stream",
     "text": [
      "saveimg ../data/img/12671.jpg failed\n",
      "saveimg ../data/img/16997.jpg failed\n",
      "preprocess done!\n"
     ]
    }
   ],
   "source": [
    "# preprocess\n",
    "# copy each image into proper classification directory\n",
    "import os\n",
    "import numpy as np\n",
    "from PIL import Image\n",
    "\n",
    "path = \"./sample/\"\n",
    "if os.path.exists(path):\n",
    "    os.rmdir(path)\n",
    "os.mkdir(path)\n",
    "train_path = path + \"train/\"\n",
    "if not os.path.exists(train_path):\n",
    "    os.mkdir(train_path)\n",
    "valid_path = path + \"valid/\"\n",
    "if not os.path.exists(valid_path):\n",
    "    os.mkdir(valid_path)\n",
    "img_path = \"../data/img/\"\n",
    "\n",
    "valid_p = 0.1\n",
    "\n",
    "def saveimg(imgid, trg_dir, trg_shape=(224, 224)):\n",
    "    if not os.path.exists(trg_dir):\n",
    "        os.mkdir(trg_dir)\n",
    "    src_img = img_path+\"%s.jpg\"%imgid\n",
    "    trg_img = trg_dir+\"%s.jpg\"%imgid\n",
    "    try:\n",
    "        img=Image.open(src_img)\n",
    "        small_img = img.resize(trg_shape)\n",
    "        small_img.save(trg_img)\n",
    "    except:\n",
    "        print \"saveimg %s failed\"%src_img\n",
    "\n",
    "# load attr file\n",
    "img_attr_dict = {}\n",
    "with open(\"../data/img_attr.csv\", 'r') as fin:\n",
    "    for line in fin:\n",
    "        attrs = line.strip().split(\"\\t\")\n",
    "        if len(attrs) != 7:\n",
    "            continue\n",
    "        imgid, zan_num, cai_num, show, hotness, date, title = attrs\n",
    "        if date == \"NAN\":\n",
    "            continue\n",
    "        key = date[:7]\n",
    "        img_attr_dict.setdefault(key, [])\n",
    "        img_attr_dict[key].append((int(imgid), int(zan_num), int(cai_num), int(show), float(hotness)))\n",
    "\n",
    "# label each image and copy to proper directory\n",
    "target_key_set = set([\"2015/01\", \"2015/02\", \"2015/03\"])\n",
    "label_id = 3 # show count\n",
    "max_label = 4 \n",
    "for key, img_attrs in img_attr_dict.items():\n",
    "    if key not in target_key_set:\n",
    "        continue\n",
    "    img_attr_matrix = np.array(img_attrs)\n",
    "    \n",
    "    log_attrs = np.log(img_attr_matrix[:, label_id])\n",
    "    max_value = log_attrs.max()\n",
    "    min_value = log_attrs.min()\n",
    "    for row_num in range(img_attr_matrix.shape[0]):\n",
    "        attr = img_attr_matrix[row_num]\n",
    "        \n",
    "        imgid = int(attr[0])\n",
    "        \n",
    "        # label each img\n",
    "        log_score = log_attrs[row_num]\n",
    "        norm_score = (log_score-min_value)*1.0/(max_value-min_value+1)\n",
    "        label = min(int(norm_score*10), max_label)\n",
    "        \n",
    "        if np.random.rand() > valid_p:\n",
    "            # copy this img to train directory\n",
    "            saveimg(str(imgid), train_path+str(label)+\"/\")\n",
    "        else:\n",
    "            # copy this img to valid directory\n",
    "            saveimg(str(imgid), valid_path+str(label)+\"/\")\n",
    "\n",
    "print \"preprocess done!\""
   ]
  },
  {
   "cell_type": "code",
   "execution_count": 16,
   "metadata": {
    "collapsed": false
   },
   "outputs": [
    {
     "data": {
      "text/plain": [
       "11.971868146856538"
      ]
     },
     "execution_count": 16,
     "metadata": {},
     "output_type": "execute_result"
    }
   ],
   "source": [
    "np.log(158240)"
   ]
  },
  {
   "cell_type": "code",
   "execution_count": 17,
   "metadata": {
    "collapsed": false
   },
   "outputs": [
    {
     "data": {
      "text/plain": [
       "7.3382381500655889"
      ]
     },
     "execution_count": 17,
     "metadata": {},
     "output_type": "execute_result"
    }
   ],
   "source": [
    "np.log(1538)"
   ]
  },
  {
   "cell_type": "code",
   "execution_count": null,
   "metadata": {
    "collapsed": true
   },
   "outputs": [],
   "source": []
  }
 ],
 "metadata": {
  "kernelspec": {
   "display_name": "Python 2",
   "language": "python",
   "name": "python2"
  },
  "language_info": {
   "codemirror_mode": {
    "name": "ipython",
    "version": 2
   },
   "file_extension": ".py",
   "mimetype": "text/x-python",
   "name": "python",
   "nbconvert_exporter": "python",
   "pygments_lexer": "ipython2",
   "version": "2.7.13"
  }
 },
 "nbformat": 4,
 "nbformat_minor": 0
}
