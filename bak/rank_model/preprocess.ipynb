{
 "cells": [
  {
   "cell_type": "markdown",
   "metadata": {},
   "source": [
    "预处理：生成pair-wise的训练数据对\n",
    "\n",
    "1. 读取img_attr.csv文件，按天或月随机生成图片pair对并标记：\n",
    "    1. 若图片A的点赞数高于图片B的点赞数，则输出1；反之为0\n",
    "    2. 若点赞数相同，则比较被踩数：图片A的被踩数低于图片B的被踩数，则输出1；反之为0\n",
    "    3. 若被踩数相同，则比较浏览次数：图片A的浏览次数高于图片B的浏览次数，则输出1；反之为0\n",
    "2. 用InceptionV3网络对图像pair对进行预处理，持久化到硬盘上"
   ]
  },
  {
   "cell_type": "code",
   "execution_count": null,
   "metadata": {
    "collapsed": true
   },
   "outputs": [],
   "source": [
    "img_path = \"../data/img/\"\n",
    "img_attr_file = \"../data/img_attr.csv\"\n",
    "save_path = \"./data/\"\n",
    "\n",
    "batch_size = 64 # for model predict\n",
    "pair_num = 30 # compare with 30 random images for each image"
   ]
  },
  {
   "cell_type": "code",
   "execution_count": null,
   "metadata": {},
   "outputs": [],
   "source": [
    "# define inception-V3 model\n",
    "from keras.models import Model\n",
    "from keras.applications.inception_v3 import InceptionV3\n",
    "from keras.layers import GlobalAveragePooling2D\n",
    "from keras.preprocessing import image\n",
    "from keras.applications.inception_v3 import preprocess_input\n",
    "import numpy as np\n",
    "\n",
    "base_model = InceptionV3(weights='imagenet', include_top=False)\n",
    "x = base_model.output\n",
    "x = GlobalAveragePooling2D()(x) # add a global spatial average pooling layer\n",
    "model = Model(inputs=base_model.input, outputs=x)\n",
    "\n",
    "def img2array(imgid_list):\n",
    "    imgid2indice = {}\n",
    "    img_array = []\n",
    "    for imgid in imgid_list:\n",
    "        try:\n",
    "            filename = img_path+\"%s.jpg\"%imgid\n",
    "            img = image.load_img(filename, target_size=(299, 299))\n",
    "            x = image.img_to_array(img)\n",
    "            x = preprocess_input(x)\n",
    "        except Exception, e:\n",
    "            print str(e)\n",
    "            continue\n",
    "        imgid2indice[imgid] = len(imgid2indice)\n",
    "        img_array.append(x)\n",
    "    feature_array = model.predict(np.array(img_array), batch_size)\n",
    "    return imgid2indice, feature_array"
   ]
  },
  {
   "cell_type": "code",
   "execution_count": null,
   "metadata": {
    "collapsed": true
   },
   "outputs": [],
   "source": [
    "# load img_attr.csv\n",
    "\n",
    "def timestamp2key(timestamp):\n",
    "    return timestamp[:8] # use month as key\n",
    "\n",
    "img_attr_dict = {}\n",
    "with open(img_attr_file, 'r') as fin:\n",
    "    for line in fin:\n",
    "        fields = line.strip().split(\"\\t\")\n",
    "        if len(fields) < 7:\n",
    "            continue\n",
    "        imgid = fields[0]\n",
    "        zan_num = int(fields[1])\n",
    "        cai_num = int(fields[2])\n",
    "        clk_num = int(fields[3])\n",
    "        key = timestamp2key(fields[5])\n",
    "        if key < \"2015\" or key == \"2017/05/\" or \\\n",
    "            (zan_num == 0 and cai_num == 0):\n",
    "            continue\n",
    "        img_attr_dict.setdefault(key, [])\n",
    "        img_attr_dict[key].append((imgid, zan_num, cai_num, clk_num))"
   ]
  },
  {
   "cell_type": "code",
   "execution_count": null,
   "metadata": {},
   "outputs": [],
   "source": [
    "%matplotlib inline\n",
    "from PIL import Image\n",
    "import matplotlib.pyplot as plt\n",
    "import random\n",
    "import cPickle as pickle\n",
    "\n",
    "def imgCmp(img_a, img_b):\n",
    "    imgid_a, zan_num_a, cai_num_a, clk_num_a = img_a\n",
    "    imgid_b, zan_num_b, cai_num_b, clk_num_b = img_b\n",
    "    \n",
    "    s_a = zan_num_a - cai_num_a\n",
    "    s_b = zan_num_b - cai_num_b\n",
    "    \n",
    "    if s_a > s_b:\n",
    "        return 1\n",
    "    elif s_a < s_b:\n",
    "        return -1\n",
    "    else:\n",
    "        return 0\n",
    "\n",
    "def testPlot(imgid_a, imgid_b, cmp_ret):\n",
    "    plt.figure(\"%s\"%cmp_ret)\n",
    "    \n",
    "    plt.subplot(1,2,1)\n",
    "    plt.title(\"%s\"%imgid_a)\n",
    "    img = Image.open(img_path+\"%s.jpg\"%imgid_a)\n",
    "    plt.imshow(img)\n",
    "    plt.axis('off')\n",
    "    \n",
    "    plt.subplot(1,2,2)\n",
    "    plt.title(\"%s\"%imgid_b)\n",
    "    img = Image.open(img_path+\"%s.jpg\"%imgid_b)\n",
    "    plt.imshow(img)\n",
    "    plt.axis('off')\n",
    "    \n",
    "    plt.show()\n",
    "\n",
    "pair_train = []\n",
    "pair_valid = []\n",
    "for key, img_attrs in sorted(img_attr_dict.items()):\n",
    "    if key == \"2017/04/\":\n",
    "        pair_samples = pair_valid\n",
    "    else:\n",
    "        pair_samples = pair_train\n",
    "    print \"current_datestamp=%s\"%key\n",
    "    imgid_list = map(lambda x: x[0], img_attrs)\n",
    "    imgid2indice, feature_array = img2array(imgid_list)\n",
    "    print \"image_features extraction finished.\"\n",
    "    #pair_samples = []\n",
    "    for img_a in img_attrs:\n",
    "        if img_a[0] not in imgid2indice:\n",
    "            continue\n",
    "        feature_a = feature_array[imgid2indice[img_a[0]]]\n",
    "        for img_b in random.sample(img_attrs, pair_num):\n",
    "            if img_b[0] not in imgid2indice:\n",
    "                continue\n",
    "            feature_b = feature_array[imgid2indice[img_b[0]]]\n",
    "            cmp_ret = imgCmp(img_a, img_b)\n",
    "            if cmp_ret != 0:\n",
    "                pair_samples.append((img_a[0], img_b[0], feature_a, feature_b, cmp_ret))\n",
    "            #pair_samples.append((img_b[0], img_a[0], feature_b, feature_a, imgCmp(img_b, img_a)))\n",
    "            #cmp_ret = imgCmp(img_a, img_b)\n",
    "            #print cmp_ret\n",
    "            #testPlot(int(img_a[0]), int(img_b[0]), cmp_ret)\n",
    "    print \"pair_samples construction finished\"\n",
    "    #pickle.dump(pair_samples, open(save_path+\"%s.pkl\"%(key.replace(\"/\", \"\")), \"wb\"), True)\n",
    "pickle.dump(pair_train, open(save_path+\"sybj.pkl\", \"wb\"), True)\n",
    "pickle.dump(pair_valid, open(save_path+\"sybj.valid.pkl\", \"wb\"), True)"
   ]
  },
  {
   "cell_type": "code",
   "execution_count": null,
   "metadata": {
    "collapsed": true
   },
   "outputs": [],
   "source": [
    "pair_samples = pickle.load(open(save_path+\"201704.pkl\", \"rb\"))"
   ]
  },
  {
   "cell_type": "code",
   "execution_count": null,
   "metadata": {},
   "outputs": [],
   "source": [
    "len(pair_train)"
   ]
  },
  {
   "cell_type": "code",
   "execution_count": null,
   "metadata": {},
   "outputs": [],
   "source": [
    "%matplotlib inline\n",
    "from PIL import Image\n",
    "import matplotlib.pyplot as plt\n",
    "import random\n",
    "import cPickle as pickle\n",
    "import numpy as np\n",
    "\n",
    "def imgCmp(img_a, img_b):\n",
    "    imgid_a, zan_num_a, cai_num_a, clk_num_a = img_a\n",
    "    imgid_b, zan_num_b, cai_num_b, clk_num_b = img_b\n",
    "    \n",
    "    s_a = zan_num_a - cai_num_a\n",
    "    s_b = zan_num_b - cai_num_b\n",
    "    \n",
    "    if s_a > s_b:\n",
    "        return 2\n",
    "    elif s_a < s_b:\n",
    "        return 0\n",
    "    else:\n",
    "        return 1\n",
    "\n",
    "def testPlot(imgid_a, imgid_b, cmp_ret):\n",
    "    plt.figure(\"%s\"%cmp_ret)\n",
    "    \n",
    "    plt.subplot(1,2,1)\n",
    "    plt.title(\"%s\"%imgid_a)\n",
    "    img = Image.open(img_path+\"%s.jpg\"%imgid_a)\n",
    "    plt.imshow(img)\n",
    "    plt.axis('off')\n",
    "    \n",
    "    plt.subplot(1,2,2)\n",
    "    plt.title(\"%s\"%imgid_b)\n",
    "    img = Image.open(img_path+\"%s.jpg\"%imgid_b)\n",
    "    plt.imshow(img)\n",
    "    plt.axis('off')\n",
    "    \n",
    "    plt.show()\n",
    "\n",
    "for key, img_attrs in sorted(img_attr_dict.items()):\n",
    "    random.shuffle(img_attrs)\n",
    "    for img_a in img_attrs:\n",
    "        for img_b in random.sample(img_attrs, pair_num):\n",
    "            cmp_ret = imgCmp(img_a, img_b)\n",
    "            #if cmp_ret != 0:\n",
    "            print cmp_ret\n",
    "            testPlot(int(img_a[0]), int(img_b[0]), cmp_ret)\n",
    "        break\n",
    "    break"
   ]
  },
  {
   "cell_type": "code",
   "execution_count": null,
   "metadata": {},
   "outputs": [],
   "source": [
    "for k,v in img_attr_dict.items():\n",
    "    print k, len(v)"
   ]
  },
  {
   "cell_type": "code",
   "execution_count": null,
   "metadata": {
    "collapsed": true
   },
   "outputs": [],
   "source": []
  }
 ],
 "metadata": {
  "kernelspec": {
   "display_name": "Python 2",
   "language": "python",
   "name": "python2"
  },
  "language_info": {
   "codemirror_mode": {
    "name": "ipython",
    "version": 2
   },
   "file_extension": ".py",
   "mimetype": "text/x-python",
   "name": "python",
   "nbconvert_exporter": "python",
   "pygments_lexer": "ipython2",
   "version": "2.7.13"
  }
 },
 "nbformat": 4,
 "nbformat_minor": 2
}
